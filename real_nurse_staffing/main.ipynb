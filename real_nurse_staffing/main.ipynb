{
 "cells": [
  {
   "cell_type": "code",
   "execution_count": 1,
   "metadata": {},
   "outputs": [],
   "source": [
    "import numpy as np\n",
    "from matplotlib import pyplot as plt\n",
    "import math\n",
    "import sys\n",
    "\n",
    "path0 = 'D:/SAWS_code'\n",
    "path = path0 + '/real_nurse_staffing'\n",
    "sys.path.append(path0)\n",
    "\n",
    "from read_data import read_ED\n",
    "from environments import real_newsvendor_env\n",
    "from algorithms import SAWS_online, MA"
   ]
  },
  {
   "cell_type": "code",
   "execution_count": 2,
   "metadata": {},
   "outputs": [
    {
     "data": {
      "text/html": [
       "<div>\n",
       "<style scoped>\n",
       "    .dataframe tbody tr th:only-of-type {\n",
       "        vertical-align: middle;\n",
       "    }\n",
       "\n",
       "    .dataframe tbody tr th {\n",
       "        vertical-align: top;\n",
       "    }\n",
       "\n",
       "    .dataframe thead th {\n",
       "        text-align: right;\n",
       "    }\n",
       "</style>\n",
       "<table border=\"1\" class=\"dataframe\">\n",
       "  <thead>\n",
       "    <tr style=\"text-align: right;\">\n",
       "      <th></th>\n",
       "      <th>Data note 1</th>\n",
       "      <th>Ind1Name</th>\n",
       "      <th>Dim1Name</th>\n",
       "      <th>Dim1Value</th>\n",
       "      <th>Dim2Name</th>\n",
       "      <th>Dim2Value</th>\n",
       "      <th>Date</th>\n",
       "      <th>Select Metric</th>\n",
       "      <th>Count</th>\n",
       "      <th>year</th>\n",
       "    </tr>\n",
       "  </thead>\n",
       "  <tbody>\n",
       "    <tr>\n",
       "      <th>94006</th>\n",
       "      <td>-Syndrome data are inherently non-specific and...</td>\n",
       "      <td>Vomiting</td>\n",
       "      <td>Citywide</td>\n",
       "      <td>Citywide</td>\n",
       "      <td>Age Group</td>\n",
       "      <td>All age groups</td>\n",
       "      <td>1/1/2019</td>\n",
       "      <td>Count</td>\n",
       "      <td>477</td>\n",
       "      <td>2019</td>\n",
       "    </tr>\n",
       "    <tr>\n",
       "      <th>94007</th>\n",
       "      <td>-Syndrome data are inherently non-specific and...</td>\n",
       "      <td>Vomiting</td>\n",
       "      <td>Citywide</td>\n",
       "      <td>Citywide</td>\n",
       "      <td>Age Group</td>\n",
       "      <td>All age groups</td>\n",
       "      <td>1/2/2019</td>\n",
       "      <td>Count</td>\n",
       "      <td>450</td>\n",
       "      <td>2019</td>\n",
       "    </tr>\n",
       "    <tr>\n",
       "      <th>94008</th>\n",
       "      <td>-Syndrome data are inherently non-specific and...</td>\n",
       "      <td>Vomiting</td>\n",
       "      <td>Citywide</td>\n",
       "      <td>Citywide</td>\n",
       "      <td>Age Group</td>\n",
       "      <td>All age groups</td>\n",
       "      <td>1/3/2019</td>\n",
       "      <td>Count</td>\n",
       "      <td>464</td>\n",
       "      <td>2019</td>\n",
       "    </tr>\n",
       "    <tr>\n",
       "      <th>94009</th>\n",
       "      <td>-Syndrome data are inherently non-specific and...</td>\n",
       "      <td>Vomiting</td>\n",
       "      <td>Citywide</td>\n",
       "      <td>Citywide</td>\n",
       "      <td>Age Group</td>\n",
       "      <td>All age groups</td>\n",
       "      <td>1/4/2019</td>\n",
       "      <td>Count</td>\n",
       "      <td>448</td>\n",
       "      <td>2019</td>\n",
       "    </tr>\n",
       "    <tr>\n",
       "      <th>94010</th>\n",
       "      <td>-Syndrome data are inherently non-specific and...</td>\n",
       "      <td>Vomiting</td>\n",
       "      <td>Citywide</td>\n",
       "      <td>Citywide</td>\n",
       "      <td>Age Group</td>\n",
       "      <td>All age groups</td>\n",
       "      <td>1/5/2019</td>\n",
       "      <td>Count</td>\n",
       "      <td>470</td>\n",
       "      <td>2019</td>\n",
       "    </tr>\n",
       "    <tr>\n",
       "      <th>...</th>\n",
       "      <td>...</td>\n",
       "      <td>...</td>\n",
       "      <td>...</td>\n",
       "      <td>...</td>\n",
       "      <td>...</td>\n",
       "      <td>...</td>\n",
       "      <td>...</td>\n",
       "      <td>...</td>\n",
       "      <td>...</td>\n",
       "      <td>...</td>\n",
       "    </tr>\n",
       "    <tr>\n",
       "      <th>95820</th>\n",
       "      <td>-Syndrome data are inherently non-specific and...</td>\n",
       "      <td>Vomiting</td>\n",
       "      <td>Citywide</td>\n",
       "      <td>Citywide</td>\n",
       "      <td>Age Group</td>\n",
       "      <td>All age groups</td>\n",
       "      <td>12/27/2023</td>\n",
       "      <td>Count</td>\n",
       "      <td>477</td>\n",
       "      <td>2023</td>\n",
       "    </tr>\n",
       "    <tr>\n",
       "      <th>95821</th>\n",
       "      <td>-Syndrome data are inherently non-specific and...</td>\n",
       "      <td>Vomiting</td>\n",
       "      <td>Citywide</td>\n",
       "      <td>Citywide</td>\n",
       "      <td>Age Group</td>\n",
       "      <td>All age groups</td>\n",
       "      <td>12/28/2023</td>\n",
       "      <td>Count</td>\n",
       "      <td>420</td>\n",
       "      <td>2023</td>\n",
       "    </tr>\n",
       "    <tr>\n",
       "      <th>95822</th>\n",
       "      <td>-Syndrome data are inherently non-specific and...</td>\n",
       "      <td>Vomiting</td>\n",
       "      <td>Citywide</td>\n",
       "      <td>Citywide</td>\n",
       "      <td>Age Group</td>\n",
       "      <td>All age groups</td>\n",
       "      <td>12/29/2023</td>\n",
       "      <td>Count</td>\n",
       "      <td>424</td>\n",
       "      <td>2023</td>\n",
       "    </tr>\n",
       "    <tr>\n",
       "      <th>95823</th>\n",
       "      <td>-Syndrome data are inherently non-specific and...</td>\n",
       "      <td>Vomiting</td>\n",
       "      <td>Citywide</td>\n",
       "      <td>Citywide</td>\n",
       "      <td>Age Group</td>\n",
       "      <td>All age groups</td>\n",
       "      <td>12/30/2023</td>\n",
       "      <td>Count</td>\n",
       "      <td>367</td>\n",
       "      <td>2023</td>\n",
       "    </tr>\n",
       "    <tr>\n",
       "      <th>95824</th>\n",
       "      <td>-Syndrome data are inherently non-specific and...</td>\n",
       "      <td>Vomiting</td>\n",
       "      <td>Citywide</td>\n",
       "      <td>Citywide</td>\n",
       "      <td>Age Group</td>\n",
       "      <td>All age groups</td>\n",
       "      <td>12/31/2023</td>\n",
       "      <td>Count</td>\n",
       "      <td>349</td>\n",
       "      <td>2023</td>\n",
       "    </tr>\n",
       "  </tbody>\n",
       "</table>\n",
       "<p>1819 rows × 10 columns</p>\n",
       "</div>"
      ],
      "text/plain": [
       "                                             Data note 1  Ind1Name  Dim1Name  \\\n",
       "94006  -Syndrome data are inherently non-specific and...  Vomiting  Citywide   \n",
       "94007  -Syndrome data are inherently non-specific and...  Vomiting  Citywide   \n",
       "94008  -Syndrome data are inherently non-specific and...  Vomiting  Citywide   \n",
       "94009  -Syndrome data are inherently non-specific and...  Vomiting  Citywide   \n",
       "94010  -Syndrome data are inherently non-specific and...  Vomiting  Citywide   \n",
       "...                                                  ...       ...       ...   \n",
       "95820  -Syndrome data are inherently non-specific and...  Vomiting  Citywide   \n",
       "95821  -Syndrome data are inherently non-specific and...  Vomiting  Citywide   \n",
       "95822  -Syndrome data are inherently non-specific and...  Vomiting  Citywide   \n",
       "95823  -Syndrome data are inherently non-specific and...  Vomiting  Citywide   \n",
       "95824  -Syndrome data are inherently non-specific and...  Vomiting  Citywide   \n",
       "\n",
       "      Dim1Value   Dim2Name       Dim2Value        Date Select Metric  Count  \\\n",
       "94006  Citywide  Age Group  All age groups    1/1/2019         Count    477   \n",
       "94007  Citywide  Age Group  All age groups    1/2/2019         Count    450   \n",
       "94008  Citywide  Age Group  All age groups    1/3/2019         Count    464   \n",
       "94009  Citywide  Age Group  All age groups    1/4/2019         Count    448   \n",
       "94010  Citywide  Age Group  All age groups    1/5/2019         Count    470   \n",
       "...         ...        ...             ...         ...           ...    ...   \n",
       "95820  Citywide  Age Group  All age groups  12/27/2023         Count    477   \n",
       "95821  Citywide  Age Group  All age groups  12/28/2023         Count    420   \n",
       "95822  Citywide  Age Group  All age groups  12/29/2023         Count    424   \n",
       "95823  Citywide  Age Group  All age groups  12/30/2023         Count    367   \n",
       "95824  Citywide  Age Group  All age groups  12/31/2023         Count    349   \n",
       "\n",
       "       year  \n",
       "94006  2019  \n",
       "94007  2019  \n",
       "94008  2019  \n",
       "94009  2019  \n",
       "94010  2019  \n",
       "...     ...  \n",
       "95820  2023  \n",
       "95821  2023  \n",
       "95822  2023  \n",
       "95823  2023  \n",
       "95824  2023  \n",
       "\n",
       "[1819 rows x 10 columns]"
      ]
     },
     "execution_count": 2,
     "metadata": {},
     "output_type": "execute_result"
    }
   ],
   "source": [
    "# read data\n",
    "syndromes = ['Asthma', 'Diarrhea', 'ILI', 'Respiratory', 'Vomiting']\n",
    "boroughs = ['Bronx', 'Brooklyn', 'Citywide', 'Manhattan', 'Queens', 'Staten Island']\n",
    "groups = ['Ages 0-4 years', 'Ages 18-64 years', 'Ages 5-17 years', 'Ages 65+ years', 'All age groups']\n",
    "\n",
    "syndrome = 'Vomiting'\n",
    "borough = 'Citywide'\n",
    "group = 'All age groups'\n",
    "year_start = 2019\n",
    "year_end = 2023\n",
    "\n",
    "counts, data = read_ED(path, syndrome, borough, group, year_start, year_end)\n",
    "init = 6   # adjust the beginning date so that the first day is Monday\n",
    "batches = [[math.ceil(sum(counts[init+7*k : init+7*(k+1)]) / 3)] for k in range(len(counts) // 7)]\n",
    "\n",
    "data"
   ]
  },
  {
   "cell_type": "code",
   "execution_count": 3,
   "metadata": {},
   "outputs": [],
   "source": [
    "# problem parameters\n",
    "d = 1\n",
    "N = len(batches)\n",
    "r = 0.7\n",
    "\n",
    "# compute per-period loss\n",
    "def newsvenor_loss(forecast, actual, r):\n",
    "    return np.mean([r * max(actual[t]-forecast[t], 0) + (1-r) * max(forecast[t]-actual[t], 0) for t in range(len(actual))])"
   ]
  },
  {
   "cell_type": "code",
   "execution_count": 4,
   "metadata": {},
   "outputs": [],
   "source": [
    "##### SAWS #####\n",
    "\n",
    "# initialize environment\n",
    "env = real_newsvendor_env(N, batches, r)\n",
    "loss = env.get_loss()\n",
    "solver = env.get_solver()\n",
    "\n",
    "# run SAWS\n",
    "param = {'B':1, 'tau':5, 'alpha':0.1, 'geo_wind':True, 'reuse':False, 'compute_reg':False}\n",
    "dcsn_list_SAWS, wind_list, _ = SAWS_online(env, loss, param, np.zeros(d), solver)\n",
    "\n",
    "# record decisions\n",
    "forecast_SAWS = dcsn_list_SAWS[:-1]\n",
    "forecast_SAWS[0] = forecast_SAWS[0][0]\n",
    "\n",
    "# compute per-period loss\n",
    "actual = [batches[t+1][0] for t in range(len(batches)-1)]\n",
    "SAWS_avgreg = newsvenor_loss(forecast_SAWS, actual, r)\n",
    "\n",
    "# record window sizes\n",
    "wind = np.array(wind_list)\n",
    "right = np.array([i + 1 for i in range(N)])\n",
    "left = right - wind\n",
    "SAWS_windows = (left, right)"
   ]
  },
  {
   "cell_type": "code",
   "execution_count": 5,
   "metadata": {},
   "outputs": [],
   "source": [
    "##### MA #####\n",
    "\n",
    "MA_avgreg = dict()   # stores per-period losses of different fixed-window benchmarks\n",
    "MA_dcsns = dict()   # stores decisions of different fixed-window benchmarks\n",
    "wind_cand = [1, 2, 4, 26, 52, 104, 208]   # fixed window sizes\n",
    "\n",
    "for wind in wind_cand:\n",
    "    \n",
    "    # initialize environment\n",
    "    env = real_newsvendor_env(N, batches, r)\n",
    "    loss = env.get_loss()\n",
    "    solver = env.get_solver()\n",
    "\n",
    "    # run Moving Average\n",
    "    param = {'B':1, 'wind':wind, 'compute_reg':False}\n",
    "    dcsn_list_MA, _ = MA(env, param, np.zeros(d), solver)\n",
    "\n",
    "    # record decisions\n",
    "    forecast_MA = dcsn_list_MA[:-1]\n",
    "    forecast_MA[0] = forecast_MA[0][0]\n",
    "    MA_dcsns[wind] = forecast_MA\n",
    "    \n",
    "    # compute per-period loss\n",
    "    actual = [batches[t+1][0] for t in range(len(batches)-1)]\n",
    "    MA_avgreg[wind] = newsvenor_loss(forecast_MA, actual, r)"
   ]
  },
  {
   "cell_type": "code",
   "execution_count": 6,
   "metadata": {},
   "outputs": [
    {
     "data": {
      "text/plain": [
       "24.226356589147287"
      ]
     },
     "execution_count": 6,
     "metadata": {},
     "output_type": "execute_result"
    }
   ],
   "source": [
    "SAWS_avgreg"
   ]
  },
  {
   "cell_type": "code",
   "execution_count": 7,
   "metadata": {},
   "outputs": [
    {
     "data": {
      "text/plain": [
       "{1: 25.07790697674419,\n",
       " 2: 31.068217054263567,\n",
       " 4: 29.86782945736434,\n",
       " 26: 58.12403100775194,\n",
       " 52: 59.23720930232558,\n",
       " 104: 68.06937984496125,\n",
       " 208: 65.25038759689923}"
      ]
     },
     "execution_count": 7,
     "metadata": {},
     "output_type": "execute_result"
    }
   ],
   "source": [
    "MA_avgreg"
   ]
  },
  {
   "cell_type": "code",
   "execution_count": 8,
   "metadata": {},
   "outputs": [
    {
     "data": {
      "image/png": "[encoded data removed]",
      "text/plain": [
       "<Figure size 750x750 with 1 Axes>"
      ]
     },
     "metadata": {},
     "output_type": "display_data"
    }
   ],
   "source": [
    "# plot per-period loss\n",
    "colors = ['r', '#FFA500', 'tab:purple', 'tab:brown', 'tab:green', '#0096FF', '#E75480', '#4B67B3']\n",
    "methods = ['SAWS'] + ['MA(' + str(wind) + ')' for wind in wind_cand]\n",
    "\n",
    "fig, ax = plt.subplots(1, 1, figsize = (7.5, 7.5))\n",
    "ax.bar(range(len(methods)), [SAWS_avgreg] + [MA_avgreg[k] for k in wind_cand], color=colors, width = 0.8)\n",
    "ax.set_xticks(range(len(methods)))\n",
    "ax.set_xticklabels(methods)\n",
    "\n",
    "plt.savefig('figures/bar_{}.pdf'.format(syndrome))"
   ]
  },
  {
   "cell_type": "code",
   "execution_count": 9,
   "metadata": {},
   "outputs": [
    {
     "data": {
      "image/png": "[encoded data removed]",
      "text/plain": [
       "<Figure size 500x500 with 1 Axes>"
      ]
     },
     "metadata": {},
     "output_type": "display_data"
    }
   ],
   "source": [
    "# plot selected windows of SAWS\n",
    "fig, ax = plt.subplots(1, 1, figsize = (5, 5))\n",
    "plt.plot(range(N), SAWS_windows[0], color='black')\n",
    "plt.plot(range(N), SAWS_windows[1], color='black')\n",
    "plt.fill_between(range(N), SAWS_windows[0], SAWS_windows[1], color='grey')\n",
    "plt.savefig('figures/windows_{}.pdf'.format(syndrome))"
   ]
  },
  {
   "cell_type": "code",
   "execution_count": 10,
   "metadata": {},
   "outputs": [
    {
     "data": {
      "image/png": "[encoded data removed]",
      "text/plain": [
       "<Figure size 1000x500 with 1 Axes>"
      ]
     },
     "metadata": {},
     "output_type": "display_data"
    }
   ],
   "source": [
    "fig, ax = plt.subplots(1, 1, figsize = (10, 5))\n",
    "plt.plot(range(len(actual)), actual, color='blue')\n",
    "plt.savefig('figures/pattern_{}.pdf'.format(syndrome))"
   ]
  }
 ],
 "metadata": {
  "kernelspec": {
   "display_name": "Python 3",
   "language": "python",
   "name": "python3"
  },
  "language_info": {
   "codemirror_mode": {
    "name": "ipython",
    "version": 3
   },
   "file_extension": ".py",
   "mimetype": "text/x-python",
   "name": "python",
   "nbconvert_exporter": "python",
   "pygments_lexer": "ipython3",
   "version": "3.10.4"
  }
 },
 "nbformat": 4,
 "nbformat_minor": 2
}
